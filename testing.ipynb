{
 "cells": [
  {
   "cell_type": "code",
   "execution_count": 70,
   "metadata": {},
   "outputs": [],
   "source": [
    "import pandas"
   ]
  },
  {
   "cell_type": "code",
   "execution_count": 71,
   "metadata": {},
   "outputs": [
    {
     "data": {
      "text/html": [
       "<div>\n",
       "<style scoped>\n",
       "    .dataframe tbody tr th:only-of-type {\n",
       "        vertical-align: middle;\n",
       "    }\n",
       "\n",
       "    .dataframe tbody tr th {\n",
       "        vertical-align: top;\n",
       "    }\n",
       "\n",
       "    .dataframe thead th {\n",
       "        text-align: right;\n",
       "    }\n",
       "</style>\n",
       "<table border=\"1\" class=\"dataframe\">\n",
       "  <thead>\n",
       "    <tr style=\"text-align: right;\">\n",
       "      <th></th>\n",
       "      <th>First Bank Card</th>\n",
       "      <th>Transaction Type</th>\n",
       "      <th>Date Posted</th>\n",
       "      <th>Transaction Amount</th>\n",
       "      <th>Description</th>\n",
       "    </tr>\n",
       "  </thead>\n",
       "  <tbody>\n",
       "    <tr>\n",
       "      <th>0</th>\n",
       "      <td>'5510290081741828'</td>\n",
       "      <td>DEBIT</td>\n",
       "      <td>20240102</td>\n",
       "      <td>-1725.83</td>\n",
       "      <td>[CW] TF 0004138890001781443                   ...</td>\n",
       "    </tr>\n",
       "    <tr>\n",
       "      <th>1</th>\n",
       "      <td>'5510290081741828'</td>\n",
       "      <td>DEBIT</td>\n",
       "      <td>20240102</td>\n",
       "      <td>-1010.00</td>\n",
       "      <td>[CW] TF 0000000022189762734                   ...</td>\n",
       "    </tr>\n",
       "    <tr>\n",
       "      <th>2</th>\n",
       "      <td>'5510290081741828'</td>\n",
       "      <td>DEBIT</td>\n",
       "      <td>20240102</td>\n",
       "      <td>-682.17</td>\n",
       "      <td>[CW]INTERAC ETRNSFR SENT     NEHA AKKA        ...</td>\n",
       "    </tr>\n",
       "    <tr>\n",
       "      <th>3</th>\n",
       "      <td>'5510290081741828'</td>\n",
       "      <td>DEBIT</td>\n",
       "      <td>20240102</td>\n",
       "      <td>-207.42</td>\n",
       "      <td>[SO]3699#2996-772                             ...</td>\n",
       "    </tr>\n",
       "    <tr>\n",
       "      <th>4</th>\n",
       "      <td>'5510290081741828'</td>\n",
       "      <td>DEBIT</td>\n",
       "      <td>20240103</td>\n",
       "      <td>-120.00</td>\n",
       "      <td>[CW]TRIANGLE MC                               ...</td>\n",
       "    </tr>\n",
       "  </tbody>\n",
       "</table>\n",
       "</div>"
      ],
      "text/plain": [
       "      First Bank Card Transaction Type  Date Posted   Transaction Amount  \\\n",
       "0  '5510290081741828'            DEBIT     20240102             -1725.83   \n",
       "1  '5510290081741828'            DEBIT     20240102             -1010.00   \n",
       "2  '5510290081741828'            DEBIT     20240102              -682.17   \n",
       "3  '5510290081741828'            DEBIT     20240102              -207.42   \n",
       "4  '5510290081741828'            DEBIT     20240103              -120.00   \n",
       "\n",
       "                                         Description  \n",
       "0  [CW] TF 0004138890001781443                   ...  \n",
       "1  [CW] TF 0000000022189762734                   ...  \n",
       "2  [CW]INTERAC ETRNSFR SENT     NEHA AKKA        ...  \n",
       "3  [SO]3699#2996-772                             ...  \n",
       "4  [CW]TRIANGLE MC                               ...  "
      ]
     },
     "execution_count": 71,
     "metadata": {},
     "output_type": "execute_result"
    }
   ],
   "source": [
    "sourceDataframe = pandas.read_csv(\"/home/sunny/Downloads/2024TransactionChequingTesting.csv\")\n",
    "\n",
    "sourceDataframe.head(5)"
   ]
  },
  {
   "cell_type": "code",
   "execution_count": 72,
   "metadata": {},
   "outputs": [
    {
     "data": {
      "text/plain": [
       "Index(['First Bank Card', 'Transaction Type', 'Date Posted',\n",
       "       ' Transaction Amount', 'Description'],\n",
       "      dtype='object')"
      ]
     },
     "execution_count": 72,
     "metadata": {},
     "output_type": "execute_result"
    }
   ],
   "source": [
    "current_row = sourceDataframe.iloc[2]\n",
    "\n",
    "current_row.index"
   ]
  },
  {
   "cell_type": "code",
   "execution_count": 73,
   "metadata": {},
   "outputs": [
    {
     "data": {
      "text/plain": [
       "'[CW]INTERAC ETRNSFR SENT     NEHA AKKA                20240011804W7UVZJ        '"
      ]
     },
     "execution_count": 73,
     "metadata": {},
     "output_type": "execute_result"
    }
   ],
   "source": [
    "current_row.values[4]\n",
    "\n"
   ]
  }
 ],
 "metadata": {
  "kernelspec": {
   "display_name": "scriptingEnvironment",
   "language": "python",
   "name": "python3"
  },
  "language_info": {
   "codemirror_mode": {
    "name": "ipython",
    "version": 3
   },
   "file_extension": ".py",
   "mimetype": "text/x-python",
   "name": "python",
   "nbconvert_exporter": "python",
   "pygments_lexer": "ipython3",
   "version": "3.12.2"
  }
 },
 "nbformat": 4,
 "nbformat_minor": 2
}
